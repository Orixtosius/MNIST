{
 "cells": [
  {
   "cell_type": "code",
   "execution_count": 1,
   "id": "e3c0edd5",
   "metadata": {},
   "outputs": [],
   "source": [
    "import pandas as pd\n",
    "import numpy as np\n",
    "import matplotlib.pyplot as plt\n",
    "import os\n",
    "import random\n",
    "import sys"
   ]
  },
  {
   "cell_type": "markdown",
   "id": "0a17210b",
   "metadata": {},
   "source": [
    "# Data Preparation"
   ]
  },
  {
   "cell_type": "code",
   "execution_count": 2,
   "id": "84b304ca",
   "metadata": {},
   "outputs": [],
   "source": [
    "def prepare_data(path, split_ratio, seed):\n",
    "    print(\"Data preparation has started.\")\n",
    "    np.random.seed(seed)\n",
    "    print(\"Data import has started\")\n",
    "    try :\n",
    "        df = pd.read_csv(path)\n",
    "    except:\n",
    "        print(\"Data file could not be found in given path. Please be sure the file exists in given path.\")\n",
    "        raise      \n",
    "    else:\n",
    "        data = df.to_numpy().astype(np.float32)\n",
    "        print(\"Data import has finished\")\n",
    "        np.random.shuffle(data)\n",
    "        X = data[:,1:]\n",
    "        Y = data[:,0]\n",
    "        splitPoint = round( len(Y)*split_ratio )\n",
    "        train_x, train_y, test_x, test_y = X[:splitPoint], Y[:splitPoint], X[splitPoint:], Y[splitPoint:]\n",
    "        print(f\"Data has been splited according to ratio of {split_ratio}\")\n",
    "    \n",
    "        print(\"Normalization has started\")\n",
    "        train_x /= 255.0\n",
    "        test_x /= 255.0\n",
    "        print(\"Completed\")\n",
    "        \n",
    "        print(\"\\nThe shapes of data is as following: \")\n",
    "        print(f\"Shape of train set of X is : {train_x.shape}\")\n",
    "        print(f\"Shape of train set of Y is : {train_y.shape}\")\n",
    "        print(f\"Shape of test set of X is : {test_x.shape}\")\n",
    "        print(f\"Shape of test set of Y is: {test_y.shape}\\n\")\n",
    "        \n",
    "        return train_x, train_y, test_x, test_y"
   ]
  },
  {
   "cell_type": "markdown",
   "id": "063274cd",
   "metadata": {},
   "source": [
    "# TRAINING"
   ]
  },
  {
   "cell_type": "code",
   "execution_count": 3,
   "id": "ff82dc77",
   "metadata": {},
   "outputs": [],
   "source": [
    "def indicatorMatrix(y):\n",
    "    N = len(y)\n",
    "    y = y.astype(np.int32)\n",
    "    K = y.max() + 1\n",
    "    ind = np.zeros((N,K))\n",
    "    for n in range(N):\n",
    "        k = y[n]\n",
    "        ind[n,k] = 1\n",
    "    return ind"
   ]
  },
  {
   "cell_type": "code",
   "execution_count": 4,
   "id": "b848eed6",
   "metadata": {},
   "outputs": [],
   "source": [
    "def forwardPropagation(X,W,b):\n",
    "    Z = X.dot(W) + b\n",
    "    expZ = np.exp(Z)\n",
    "    return expZ / expZ.sum(axis = 1, keepdims = True)"
   ]
  },
  {
   "cell_type": "code",
   "execution_count": 19,
   "id": "b316c962",
   "metadata": {},
   "outputs": [],
   "source": [
    "def cost(p_y, t):\n",
    "    tot = t * np.log(p_y)\n",
    "    return -tot.sum()"
   ]
  },
  {
   "cell_type": "code",
   "execution_count": 6,
   "id": "1214d491",
   "metadata": {},
   "outputs": [],
   "source": [
    "def error_rate(p_y, t):\n",
    "    prediction = predict(p_y)\n",
    "    return np.mean(prediction != t)"
   ]
  },
  {
   "cell_type": "code",
   "execution_count": 7,
   "id": "5cdfdc3d",
   "metadata": {},
   "outputs": [],
   "source": [
    "def predict(p_y):\n",
    "    return np.argmax(p_y, axis = 1)"
   ]
  },
  {
   "cell_type": "code",
   "execution_count": 8,
   "id": "e27b999d",
   "metadata": {},
   "outputs": [],
   "source": [
    "def gradW(t, y, X):\n",
    "    return X.T.dot(t - y)\n",
    "def gradb(t, y):\n",
    "    return (t - y).sum(axis = 0)"
   ]
  },
  {
   "cell_type": "code",
   "execution_count": 20,
   "id": "c682ded5",
   "metadata": {},
   "outputs": [],
   "source": [
    "def getBatches(X,Y,batch_size):\n",
    "    if batch_size == -1:\n",
    "        batch_size = len(Y)\n",
    "        \n",
    "    batch_number = int(np.ceil( len(Y) / batch_size ))\n",
    "    Xb, Yb = [None]*batch_number, [None]*batch_number\n",
    "    for i in range(batch_number):\n",
    "        Xb[i] = X[i*batch_size : (i+1)*batch_size ]\n",
    "        Yb[i] = Y[i*batch_size : (i+1)*batch_size ]\n",
    "    return Xb, Yb"
   ]
  },
  {
   "cell_type": "code",
   "execution_count": 21,
   "id": "0a645024",
   "metadata": {},
   "outputs": [],
   "source": [
    "def linearModel(path, split_ratio, seed, batch_size, learning_rate = 0.0001, regularization = 0.0, n_iter = 100):\n",
    "    \n",
    "    train_x, train_y, test_x, test_y = prepare_data(path, split_ratio, seed)\n",
    "    \n",
    "    M, NX = train_x.shape\n",
    "    train_indicatorMatrix = indicatorMatrix(train_y)\n",
    "    K = train_indicatorMatrix.shape[1]\n",
    "    print(f\"Target number is {K}\")\n",
    "    print(f\"Train ind matrix is : {train_indicatorMatrix.shape}\")\n",
    "    \n",
    "    print(\"Initialization of weight matrix and bias vector has started...\\n\")\n",
    "    W = np.random.randn(NX,K) / np.sqrt(NX)\n",
    "    print(f\"Shape of W is {W.shape}\")\n",
    "    b = np.zeros(K)\n",
    "    print(f\"Shape of b is {b.shape}\")\n",
    "    print(\"\\nInitialization of weight matrix and bias vector has COMPLETED\\n\")\n",
    "    \n",
    "    train_losses, test_losses, train_error, test_error = [],[],[],[]\n",
    "    \n",
    "    print(\"Training has started.\\n\")\n",
    "    \n",
    "    if batch_size == -1:\n",
    "        print(f\"Full Gradient Descent has chosen by user.\")\n",
    "    elif batch_size == 1:\n",
    "        print(f\"Stocastic Gradient Descent has chosen by user.\")\n",
    "    else:\n",
    "        print(f\"Mini-Batch Gradient Descent has chosen by user.\")\n",
    "        \n",
    "    for i in range(n_iter):\n",
    "        \n",
    "        if batch_size != -1:\n",
    "            \n",
    "            permutation = np.random.permutation(len(train_x))            \n",
    "            train_x, train_y = train_x[permutation], train_y[permutation]\n",
    "            train_indicatorMatrix = indicatorMatrix(train_y)\n",
    "            \n",
    "        Xb, Yb = getBatches(train_x, train_y, batch_size)\n",
    "        c = 0\n",
    "        for X, Y in zip(Xb, Yb): \n",
    "            \n",
    "            if batch_size != -1:\n",
    "                train_indicatorMatrix_batch = train_indicatorMatrix[c*len(X):(c+1)*len(X)]\n",
    "            else :\n",
    "                train_indicatorMatrix_batch = train_indicatorMatrix\n",
    "            \n",
    "            \n",
    "            p_y = forwardPropagation(X, W, b)\n",
    "            trainLoss = cost(p_y, train_indicatorMatrix_batch)\n",
    "            train_losses.append(trainLoss)\n",
    "            trainError = error_rate(p_y, Y)\n",
    "            train_error.append(trainError)\n",
    "            \n",
    "            W += learning_rate*(gradW( train_indicatorMatrix_batch, p_y, X) - regularization*W)\n",
    "            b += learning_rate*(gradb( train_indicatorMatrix_batch, p_y ))\n",
    "            c+=1\n",
    "             \n",
    "        if (i+1)%10 == 0:\n",
    "            print(f\"Iteration : {i+1} Train Loss : {trainLoss:.3f} Train Error : {trainError:.3f}\")\n",
    "        \n",
    "    p_y = forwardPropagation(test_x, W, b)\n",
    "    test_indicatorMatrix = indicatorMatrix(test_y)\n",
    "    \n",
    "    print(\"Training has finished.\\n\")\n",
    "    print(f\"Final error rate is {error_rate(p_y, test_y)}\")\n",
    "    \n",
    "    results = {\n",
    "        \"test_error_rate\": error_rate(p_y, test_y),\n",
    "        \"test_cost\": cost(p_y, test_indicatorMatrix),\n",
    "        \"costs\": train_losses,\n",
    "        \"errors\": train_error,\n",
    "        \"w\" : W,\n",
    "        \"b\" : b,\n",
    "        \"n_iter\" : n_iter,\n",
    "        \"batch_size\" : batch_size\n",
    "    }\n",
    "    \n",
    "    return results"
   ]
  },
  {
   "cell_type": "code",
   "execution_count": 11,
   "id": "f52f2c6e",
   "metadata": {},
   "outputs": [],
   "source": [
    "def plot_model(results):\n",
    "    for c,result in enumerate(results):\n",
    "        plt.plot(result[\"costs\"], label = f\"Cost of Model {c}\")\n",
    "        plt.suptitle(f\"Batch size {result['batch_size']} and Iteration number {result['n_iter']}\")\n",
    "    plt.title(\"Loss per iteration\")\n",
    "    plt.legend()\n",
    "    plt.show()\n",
    "    \n",
    "    for c,result in enumerate(results):\n",
    "        plt.plot(result[\"errors\"], label = f\"Train Error of Model {c}\")\n",
    "    plt.title(\"Loss per iteration\")\n",
    "    plt.legend()\n",
    "    plt.show()"
   ]
  },
  {
   "cell_type": "code",
   "execution_count": 22,
   "id": "d9adc8a7",
   "metadata": {},
   "outputs": [
    {
     "name": "stdout",
     "output_type": "stream",
     "text": [
      "Data preparation has started.\n",
      "Data import has started\n",
      "Data import has finished\n",
      "Data has been splited according to ratio of 0.7\n",
      "Normalization has started\n",
      "Completed\n",
      "\n",
      "The shapes of data is as following: \n",
      "Shape of train set of X is : (29400, 784)\n",
      "Shape of train set of Y is : (29400,)\n",
      "Shape of test set of X is : (12600, 784)\n",
      "Shape of test set of Y is: (12600,)\n",
      "\n",
      "Target number is 10\n",
      "Train ind matrix is : (29400, 10)\n",
      "Initialization of weight matrix and bias vector has started...\n",
      "\n",
      "Shape of W is (784, 10)\n",
      "Shape of b is (10,)\n",
      "\n",
      "Initialization of weight matrix and bias vector has COMPLETED\n",
      "\n",
      "Training has started.\n",
      "\n",
      "Stocastic Gradient Descent has chosen by user.\n",
      "Iteration : 10 Train Loss : 0.110 Train Error : 0.000\n",
      "Training has finished.\n",
      "\n",
      "Final error rate is 0.0992063492063492\n"
     ]
    }
   ],
   "source": [
    "res = linearModel(\"train.csv\", 0.7, 10, 1, learning_rate = 0.0003, regularization = 0.0, n_iter = 10)"
   ]
  },
  {
   "cell_type": "code",
   "execution_count": 23,
   "id": "c040e5f7",
   "metadata": {},
   "outputs": [
    {
     "name": "stdout",
     "output_type": "stream",
     "text": [
      "Data preparation has started.\n",
      "Data import has started\n",
      "Data import has finished\n",
      "Data has been splited according to ratio of 0.7\n",
      "Normalization has started\n",
      "Completed\n",
      "\n",
      "The shapes of data is as following: \n",
      "Shape of train set of X is : (29400, 784)\n",
      "Shape of train set of Y is : (29400,)\n",
      "Shape of test set of X is : (12600, 784)\n",
      "Shape of test set of Y is: (12600,)\n",
      "\n",
      "Target number is 10\n",
      "Train ind matrix is : (29400, 10)\n",
      "Initialization of weight matrix and bias vector has started...\n",
      "\n",
      "Shape of W is (784, 10)\n",
      "Shape of b is (10,)\n",
      "\n",
      "Initialization of weight matrix and bias vector has COMPLETED\n",
      "\n",
      "Training has started.\n",
      "\n",
      "Full Gradient Descent has chosen by user.\n",
      "Iteration : 10 Train Loss : 684406.612 Train Error : 0.405\n",
      "Training has finished.\n",
      "\n",
      "Final error rate is 0.395\n"
     ]
    }
   ],
   "source": [
    "res2 = linearModel(\"train.csv\", 0.7, 10, -1, learning_rate = 0.0003, regularization = 0.0, n_iter = 10)"
   ]
  },
  {
   "cell_type": "code",
   "execution_count": 24,
   "id": "d0fe3d48",
   "metadata": {},
   "outputs": [
    {
     "name": "stdout",
     "output_type": "stream",
     "text": [
      "Data preparation has started.\n",
      "Data import has started\n",
      "Data import has finished\n",
      "Data has been splited according to ratio of 0.7\n",
      "Normalization has started\n",
      "Completed\n",
      "\n",
      "The shapes of data is as following: \n",
      "Shape of train set of X is : (29400, 784)\n",
      "Shape of train set of Y is : (29400,)\n",
      "Shape of test set of X is : (12600, 784)\n",
      "Shape of test set of Y is: (12600,)\n",
      "\n",
      "Target number is 10\n",
      "Train ind matrix is : (29400, 10)\n",
      "Initialization of weight matrix and bias vector has started...\n",
      "\n",
      "Shape of W is (784, 10)\n",
      "Shape of b is (10,)\n",
      "\n",
      "Initialization of weight matrix and bias vector has COMPLETED\n",
      "\n",
      "Training has started.\n",
      "\n",
      "Mini-Batch Gradient Descent has chosen by user.\n",
      "Iteration : 10 Train Loss : 2471.114 Train Error : 0.092\n",
      "Training has finished.\n",
      "\n",
      "Final error rate is 0.10047619047619048\n"
     ]
    }
   ],
   "source": [
    "res3 = linearModel(\"train.csv\", 0.7, 10, 1000, learning_rate = 0.0003, regularization = 0.0, n_iter = 10)"
   ]
  },
  {
   "cell_type": "code",
   "execution_count": 26,
   "id": "40a304ce",
   "metadata": {},
   "outputs": [
    {
     "data": {
      "image/png": "[encoded data removed]",
      "text/plain": [
       "<Figure size 432x288 with 1 Axes>"
      ]
     },
     "metadata": {
      "needs_background": "light"
     },
     "output_type": "display_data"
    },
    {
     "data": {
      "image/png": "[encoded data removed]",
      "text/plain": [
       "<Figure size 432x288 with 1 Axes>"
      ]
     },
     "metadata": {
      "needs_background": "light"
     },
     "output_type": "display_data"
    }
   ],
   "source": [
    "results = []\n",
    "#results.append(res)\n",
    "results.append(res2)\n",
    "results.append(res3)\n",
    "plot_model(results)"
   ]
  },
  {
   "cell_type": "code",
   "execution_count": null,
   "id": "514d352e",
   "metadata": {},
   "outputs": [],
   "source": []
  }
 ],
 "metadata": {
  "kernelspec": {
   "display_name": "Python 3 (ipykernel)",
   "language": "python",
   "name": "python3"
  },
  "language_info": {
   "codemirror_mode": {
    "name": "ipython",
    "version": 3
   },
   "file_extension": ".py",
   "mimetype": "text/x-python",
   "name": "python",
   "nbconvert_exporter": "python",
   "pygments_lexer": "ipython3",
   "version": "3.7.11"
  }
 },
 "nbformat": 4,
 "nbformat_minor": 5
}
