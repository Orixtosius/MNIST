{
 "cells": [
  {
   "cell_type": "code",
   "execution_count": 138,
   "id": "e3c0edd5",
   "metadata": {},
   "outputs": [],
   "source": [
    "import pandas as pd\n",
    "import numpy as np\n",
    "import matplotlib.pyplot as plt\n",
    "import os\n",
    "import random"
   ]
  },
  {
   "cell_type": "code",
   "execution_count": 139,
   "id": "4254a096",
   "metadata": {},
   "outputs": [],
   "source": [
    "df = pd.read_csv(\"train.csv\")\n",
    "data = df.to_numpy().astype(np.float32)"
   ]
  },
  {
   "cell_type": "code",
   "execution_count": 140,
   "id": "df5e66d4",
   "metadata": {},
   "outputs": [],
   "source": [
    "np.random.seed(110)"
   ]
  },
  {
   "cell_type": "code",
   "execution_count": 141,
   "id": "62adc436",
   "metadata": {},
   "outputs": [],
   "source": [
    "np.random.shuffle(data)"
   ]
  },
  {
   "cell_type": "code",
   "execution_count": 142,
   "id": "faeebb9d",
   "metadata": {},
   "outputs": [],
   "source": [
    "X = data[:,1:]\n",
    "Y = data[:,0]"
   ]
  },
  {
   "cell_type": "code",
   "execution_count": 143,
   "id": "379e5d21",
   "metadata": {},
   "outputs": [
    {
     "data": {
      "text/plain": [
       "29400"
      ]
     },
     "execution_count": 143,
     "metadata": {},
     "output_type": "execute_result"
    }
   ],
   "source": [
    "len(Y)\n",
    "splitPoint = round( len(Y)*0.7)\n",
    "splitPoint"
   ]
  },
  {
   "cell_type": "code",
   "execution_count": 144,
   "id": "61ff7aa3",
   "metadata": {},
   "outputs": [],
   "source": [
    "train_y = Y[:splitPoint]\n",
    "train_x = X[:splitPoint]\n",
    "test_y = Y[splitPoint:]\n",
    "test_x = X[splitPoint:]"
   ]
  },
  {
   "cell_type": "code",
   "execution_count": 128,
   "id": "4063a599",
   "metadata": {},
   "outputs": [
    {
     "name": "stdout",
     "output_type": "stream",
     "text": [
      "The shapes of arrays are as following: \n",
      "Train set shape of X is : (29400, 784)\n",
      "Train set shape of Y is : (29400,)\n",
      "Test set shape of X is : (12600, 784)\n",
      "Test set shape of Y is : (12600,)\n"
     ]
    }
   ],
   "source": [
    "print(\"The shapes of arrays are as following: \")\n",
    "print(f\"Train set shape of X is : {train_x.shape}\")\n",
    "print(f\"Train set shape of Y is : {train_y.shape}\")\n",
    "print(f\"Test set shape of X is : {test_x.shape}\")\n",
    "print(f\"Test set shape of Y is : {test_y.shape}\")"
   ]
  },
  {
   "cell_type": "code",
   "execution_count": 145,
   "id": "8d1a3970",
   "metadata": {},
   "outputs": [],
   "source": [
    "x = train_x[6].reshape(28,28)"
   ]
  },
  {
   "cell_type": "code",
   "execution_count": 146,
   "id": "d6255765",
   "metadata": {},
   "outputs": [
    {
     "data": {
      "text/plain": [
       "<matplotlib.image.AxesImage at 0x1d8df74c748>"
      ]
     },
     "execution_count": 146,
     "metadata": {},
     "output_type": "execute_result"
    },
    {
     "data": {
      "image/png": "[encoded data removed]",
      "text/plain": [
       "<Figure size 432x288 with 1 Axes>"
      ]
     },
     "metadata": {
      "needs_background": "light"
     },
     "output_type": "display_data"
    }
   ],
   "source": [
    "plt.imshow(x)"
   ]
  },
  {
   "cell_type": "code",
   "execution_count": 147,
   "id": "30194844",
   "metadata": {},
   "outputs": [
    {
     "name": "stdout",
     "output_type": "stream",
     "text": [
      "Normalization...\n",
      "Completed...\n"
     ]
    }
   ],
   "source": [
    "print(\"Normalization...\")\n",
    "train_x /= 255.0\n",
    "test_x /= 255.0\n",
    "print(\"Completed...\")"
   ]
  },
  {
   "cell_type": "code",
   "execution_count": 148,
   "id": "ff76c94b",
   "metadata": {},
   "outputs": [
    {
     "data": {
      "text/plain": [
       "<matplotlib.image.AxesImage at 0x1d8e0d357c8>"
      ]
     },
     "execution_count": 148,
     "metadata": {},
     "output_type": "execute_result"
    },
    {
     "data": {
      "image/png": "[encoded data removed]",
      "text/plain": [
       "<Figure size 432x288 with 1 Axes>"
      ]
     },
     "metadata": {
      "needs_background": "light"
     },
     "output_type": "display_data"
    }
   ],
   "source": [
    "x = train_x[6].reshape(28,28)\n",
    "plt.imshow(x)"
   ]
  },
  {
   "cell_type": "markdown",
   "id": "063274cd",
   "metadata": {},
   "source": [
    "# TRAINING"
   ]
  },
  {
   "cell_type": "code",
   "execution_count": 149,
   "id": "de4dd0d6",
   "metadata": {},
   "outputs": [],
   "source": [
    "def indicatorMatrix(y):\n",
    "    N = len(y)\n",
    "    y = y.astype(np.int32)\n",
    "    K = y.max() + 1\n",
    "    ind = np.zeros((N,K))\n",
    "    for n in range(N):\n",
    "        k = y[n]\n",
    "        ind[n,k] = 1\n",
    "    return ind"
   ]
  },
  {
   "cell_type": "code",
   "execution_count": 150,
   "id": "bfaad7a8",
   "metadata": {},
   "outputs": [],
   "source": [
    "def forwardPropagation(X,W,b):\n",
    "    Z = X.dot(W) + b\n",
    "    expZ = np.exp(Z)\n",
    "    return expZ / expZ.sum(axis = 1, keepdims = True)"
   ]
  },
  {
   "cell_type": "code",
   "execution_count": 151,
   "id": "284c65fd",
   "metadata": {},
   "outputs": [],
   "source": [
    "def cost(p_y, t):\n",
    "    tot = t * np.log(p_y)\n",
    "    return -tot.sum()"
   ]
  },
  {
   "cell_type": "code",
   "execution_count": 152,
   "id": "53fc553e",
   "metadata": {},
   "outputs": [],
   "source": [
    "def error_rate(p_y, t):\n",
    "    prediction = predict(p_y)\n",
    "    return np.mean(prediction != t)"
   ]
  },
  {
   "cell_type": "code",
   "execution_count": 153,
   "id": "fac372b7",
   "metadata": {},
   "outputs": [],
   "source": [
    "def predict(p_y):\n",
    "    return np.argmax(p_y, axis = 1)"
   ]
  },
  {
   "cell_type": "code",
   "execution_count": 154,
   "id": "30afd158",
   "metadata": {},
   "outputs": [],
   "source": [
    "def gradW(t, y, X):\n",
    "    return X.T.dot(t - y)\n",
    "def gradb(t, y):\n",
    "    return (t - y).sum(axis = 0)"
   ]
  },
  {
   "cell_type": "code",
   "execution_count": 155,
   "id": "32ee07e7",
   "metadata": {},
   "outputs": [
    {
     "name": "stdout",
     "output_type": "stream",
     "text": [
      "The shapes of arrays are as following: \n",
      "Train set shape of X is : (29400, 784)\n",
      "Train set shape of Y is : (29400,)\n",
      "Test set shape of X is : (12600, 784)\n",
      "Test set shape of Y is : (12600,)\n"
     ]
    }
   ],
   "source": [
    "print(\"The shapes of arrays are as following: \")\n",
    "print(f\"Train set shape of X is : {train_x.shape}\")\n",
    "print(f\"Train set shape of Y is : {train_y.shape}\")\n",
    "print(f\"Test set shape of X is : {test_x.shape}\")\n",
    "print(f\"Test set shape of Y is : {test_y.shape}\")"
   ]
  },
  {
   "cell_type": "code",
   "execution_count": 156,
   "id": "ffeb49a4",
   "metadata": {},
   "outputs": [
    {
     "name": "stdout",
     "output_type": "stream",
     "text": [
      "Class number is 10\n",
      "Train ind matrix is : (29400, 10)\n",
      "Test  ind matrix is : (12600, 10)\n"
     ]
    }
   ],
   "source": [
    "M, NX = train_x.shape\n",
    "test_indicatorMatrix = indicatorMatrix(test_y)\n",
    "train_indicatorMatrix = indicatorMatrix(train_y)\n",
    "K = train_indicatorMatrix.shape[1]\n",
    "print(f\"Class number is {K}\")\n",
    "print(f\"Train ind matrix is : {train_indicatorMatrix.shape}\")\n",
    "print(f\"Test  ind matrix is : {test_indicatorMatrix.shape}\")"
   ]
  },
  {
   "cell_type": "code",
   "execution_count": 157,
   "id": "f19c193e",
   "metadata": {},
   "outputs": [
    {
     "name": "stdout",
     "output_type": "stream",
     "text": [
      "Initialization of weight matrix and bias vector has started...\n",
      "\n",
      "Shape of W is (784, 10)\n",
      "An example of W is\n",
      "[ 0.02839267 -0.07518903 -0.0121183  -0.03787641  0.01642355 -0.03786001\n",
      "  0.01286712  0.02671923  0.00699233  0.04843336]\n",
      "Shape of b is (10,)\n",
      "Value of b is\n",
      "[0. 0. 0. 0. 0. 0. 0. 0. 0. 0.]\n",
      "\n",
      "Initialization of weight matrix and bias vector has COMPLETED\n"
     ]
    }
   ],
   "source": [
    "print(\"Initialization of weight matrix and bias vector has started...\\n\")\n",
    "W = np.random.randn(NX,K) / np.sqrt(NX)\n",
    "print(f\"Shape of W is {W.shape}\")\n",
    "print(f\"An example of W is\\n{W[0]}\")\n",
    "b = np.zeros(K)\n",
    "print(f\"Shape of b is {b.shape}\")\n",
    "print(f\"Value of b is\\n{b}\")\n",
    "print(\"\\nInitialization of weight matrix and bias vector has COMPLETED\")"
   ]
  },
  {
   "cell_type": "code",
   "execution_count": 158,
   "id": "b04bd317",
   "metadata": {},
   "outputs": [],
   "source": [
    "train_losses = []\n",
    "test_losses = []\n",
    "train_error = []\n",
    "test_error = []"
   ]
  },
  {
   "cell_type": "code",
   "execution_count": 159,
   "id": "b681cacf",
   "metadata": {},
   "outputs": [
    {
     "name": "stdout",
     "output_type": "stream",
     "text": [
      "Iteration : 10 Train Loss : 32188.091 Train Error : 0.287\n",
      "                Test Loss  : 13860.064  Test Error  : 0.288\n",
      "Iteration : 20 Train Loss : 16933.048 Train Error : 0.185\n",
      "                Test Loss  : 7403.938  Test Error  : 0.189\n",
      "Iteration : 30 Train Loss : 12916.174 Train Error : 0.121\n",
      "                Test Loss  : 5721.773  Test Error  : 0.125\n",
      "Iteration : 40 Train Loss : 12006.455 Train Error : 0.111\n",
      "                Test Loss  : 5358.451  Test Error  : 0.116\n",
      "Iteration : 50 Train Loss : 11449.403 Train Error : 0.106\n",
      "                Test Loss  : 5137.213  Test Error  : 0.112\n",
      "Iteration : 60 Train Loss : 11032.604 Train Error : 0.103\n",
      "                Test Loss  : 4973.223  Test Error  : 0.109\n",
      "Iteration : 70 Train Loss : 10704.558 Train Error : 0.101\n",
      "                Test Loss  : 4845.500  Test Error  : 0.106\n",
      "Iteration : 80 Train Loss : 10437.321 Train Error : 0.099\n",
      "                Test Loss  : 4742.505  Test Error  : 0.104\n",
      "Iteration : 90 Train Loss : 10213.915 Train Error : 0.097\n",
      "                Test Loss  : 4657.250  Test Error  : 0.102\n",
      "Iteration : 100 Train Loss : 10023.344 Train Error : 0.095\n",
      "                Test Loss  : 4585.226  Test Error  : 0.101\n",
      "Final error rate is 0.10063492063492063\n"
     ]
    },
    {
     "data": {
      "image/png": "[encoded data removed]",
      "text/plain": [
       "<Figure size 432x288 with 1 Axes>"
      ]
     },
     "metadata": {
      "needs_background": "light"
     },
     "output_type": "display_data"
    },
    {
     "data": {
      "image/png": "[encoded data removed]",
      "text/plain": [
       "<Figure size 432x288 with 1 Axes>"
      ]
     },
     "metadata": {
      "needs_background": "light"
     },
     "output_type": "display_data"
    }
   ],
   "source": [
    "lr, reg, n_iter = 0.00003, 0.0, 100\n",
    "\n",
    "for i in range(n_iter):\n",
    "    p_y = forwardPropagation(train_x, W, b)\n",
    "    trainLoss = cost(p_y, train_indicatorMatrix)\n",
    "    train_losses.append(trainLoss)\n",
    "    trainError = error_rate(p_y, train_y)\n",
    "    train_error.append(trainError)\n",
    "    \n",
    "    p_y_test = forwardPropagation(test_x, W, b)\n",
    "    testLoss = cost(p_y_test, test_indicatorMatrix)\n",
    "    test_losses.append(testLoss)\n",
    "    testError = error_rate(p_y_test, test_y)\n",
    "    test_error.append(testError)\n",
    "    \n",
    "    W += lr*(gradW( train_indicatorMatrix, p_y, train_x ) - reg*W)\n",
    "    b += lr*(gradb( train_indicatorMatrix, p_y ))\n",
    "             \n",
    "    if (i+1)%10 == 0:\n",
    "        print(f\"Iteration : {i+1} Train Loss : {trainLoss:.3f} Train Error : {trainError:.3f}\")\n",
    "        print(f\"                Test Loss  : {testLoss:.3f}  Test Error  : {testError:.3f}\")\n",
    "        \n",
    "p_y = forwardPropagation(test_x, W, b)\n",
    "print(f\"Final error rate is {error_rate(p_y, test_y)}\")\n",
    "             \n",
    "plt.plot(train_losses, label = \"Train Losses\")\n",
    "plt.plot(test_losses, label = \"Test Losses\")\n",
    "plt.title(\"Loss per iteration\")\n",
    "plt.legend()\n",
    "plt.show()\n",
    "             \n",
    "plt.plot(train_error, label = \"Train Error\")\n",
    "plt.plot(test_error, label = \"Test Error\")\n",
    "plt.title(\"Error per iteration\")\n",
    "plt.legend()\n",
    "plt.show()"
   ]
  },
  {
   "cell_type": "code",
   "execution_count": null,
   "id": "b9147bfd",
   "metadata": {},
   "outputs": [],
   "source": []
  }
 ],
 "metadata": {
  "kernelspec": {
   "display_name": "Python 3 (ipykernel)",
   "language": "python",
   "name": "python3"
  },
  "language_info": {
   "codemirror_mode": {
    "name": "ipython",
    "version": 3
   },
   "file_extension": ".py",
   "mimetype": "text/x-python",
   "name": "python",
   "nbconvert_exporter": "python",
   "pygments_lexer": "ipython3",
   "version": "3.7.11"
  }
 },
 "nbformat": 4,
 "nbformat_minor": 5
}
